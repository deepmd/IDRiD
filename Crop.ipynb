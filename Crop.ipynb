{
 "cells": [
  {
   "cell_type": "code",
   "execution_count": 1,
   "metadata": {
    "collapsed": true
   },
   "outputs": [],
   "source": [
    "from torchvision.transforms import CenterCrop\n",
    "import os\n",
    "from PIL import Image\n",
    "import numpy as np"
   ]
  },
  {
   "cell_type": "code",
   "execution_count": 2,
   "metadata": {
    "collapsed": true
   },
   "outputs": [],
   "source": [
    "#root_path = './inputs/'\n",
    "#type_image = ['train', 'train_masks']\n",
    "#type_image = ['val', 'val_masks']\n",
    "\n",
    "#src_path = {t: os.path.join(root_path, t + '/') for t in type_image}\n",
    "#des_path = {t: os.path.join(root_path, t + '_cropped/') for t in type_image}\n",
    "\n",
    "type_image = ['raw', 'masks']\n",
    "src_path = {'raw': 'inputs/ApparentRetinopathy/', 'masks': 'inputs/Masks/HardExudates/'}\n",
    "des_path = {'raw': 'inputs/ApparentRetinopathy_Cropped/', 'masks': 'inputs/Masks/HardExudates_Cropped/'}"
   ]
  },
  {
   "cell_type": "code",
   "execution_count": 3,
   "metadata": {},
   "outputs": [
    {
     "name": "stdout",
     "output_type": "stream",
     "text": [
      "raw\n",
      "1/54\n",
      "2/54\n",
      "3/54\n",
      "4/54\n",
      "5/54\n",
      "6/54\n",
      "7/54\n",
      "8/54\n",
      "9/54\n",
      "10/54\n",
      "11/54\n",
      "12/54\n",
      "13/54\n",
      "14/54\n",
      "15/54\n",
      "16/54\n",
      "17/54\n",
      "18/54\n",
      "19/54\n",
      "20/54\n",
      "21/54\n",
      "22/54\n",
      "23/54\n",
      "24/54\n",
      "25/54\n",
      "26/54\n",
      "27/54\n",
      "28/54\n",
      "29/54\n",
      "30/54\n",
      "31/54\n",
      "32/54\n",
      "33/54\n",
      "34/54\n",
      "35/54\n",
      "36/54\n",
      "37/54\n",
      "38/54\n",
      "39/54\n",
      "40/54\n",
      "41/54\n",
      "42/54\n",
      "43/54\n",
      "44/54\n",
      "45/54\n",
      "46/54\n",
      "47/54\n",
      "48/54\n",
      "49/54\n",
      "50/54\n",
      "51/54\n",
      "52/54\n",
      "53/54\n",
      "54/54\n",
      "masks\n",
      "1/54\n",
      "2/54\n",
      "3/54\n",
      "4/54\n",
      "5/54\n",
      "6/54\n",
      "7/54\n",
      "8/54\n",
      "9/54\n",
      "10/54\n",
      "11/54\n",
      "12/54\n",
      "13/54\n",
      "14/54\n",
      "15/54\n",
      "16/54\n",
      "17/54\n",
      "18/54\n",
      "19/54\n",
      "20/54\n",
      "21/54\n",
      "22/54\n",
      "23/54\n",
      "24/54\n",
      "25/54\n",
      "26/54\n",
      "27/54\n",
      "28/54\n",
      "29/54\n",
      "30/54\n",
      "31/54\n",
      "32/54\n",
      "33/54\n",
      "34/54\n",
      "35/54\n",
      "36/54\n",
      "37/54\n",
      "38/54\n",
      "39/54\n",
      "40/54\n",
      "41/54\n",
      "42/54\n",
      "43/54\n",
      "44/54\n",
      "45/54\n",
      "46/54\n",
      "47/54\n",
      "48/54\n",
      "49/54\n",
      "50/54\n",
      "51/54\n",
      "52/54\n",
      "53/54\n",
      "54/54\n"
     ]
    }
   ],
   "source": [
    "for t in type_image:\n",
    "    print(t)\n",
    "    num = 1\n",
    "    image_names = os.listdir(src_path[t])    \n",
    "    for img_name in image_names:\n",
    "        img = Image.open(os.path.join(src_path[t], img_name))\n",
    "        img = np.asarray(CenterCrop(((2900, 3800)))(img))[:, :3500]\n",
    "        img = (img * 255) if ('masks' in t) else img\n",
    "        img = Image.fromarray(np.uint8(img))\n",
    "        ext = '.png' if ('masks' not in t) else '.tif'\n",
    "        img.save(os.path.join(des_path[t], img_name[:-4] + ext))\n",
    "\n",
    "        print('{}/{}'.format(num, len(image_names)))\n",
    "        num += 1"
   ]
  },
  {
   "cell_type": "code",
   "execution_count": null,
   "metadata": {
    "collapsed": true
   },
   "outputs": [],
   "source": []
  },
  {
   "cell_type": "code",
   "execution_count": null,
   "metadata": {
    "collapsed": true
   },
   "outputs": [],
   "source": []
  }
 ],
 "metadata": {
  "kernelspec": {
   "display_name": "Python 3",
   "language": "python",
   "name": "python3"
  },
  "language_info": {
   "codemirror_mode": {
    "name": "ipython",
    "version": 3
   },
   "file_extension": ".py",
   "mimetype": "text/x-python",
   "name": "python",
   "nbconvert_exporter": "python",
   "pygments_lexer": "ipython3",
   "version": "3.6.1"
  }
 },
 "nbformat": 4,
 "nbformat_minor": 2
}
